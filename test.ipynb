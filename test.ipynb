{
 "cells": [
  {
   "cell_type": "code",
   "execution_count": 1,
   "metadata": {
    "collapsed": true
   },
   "outputs": [],
   "source": [
    "import chess"
   ]
  },
  {
   "cell_type": "code",
   "execution_count": 2,
   "metadata": {
    "pycharm": {
     "name": "#%%\n"
    }
   },
   "outputs": [
    {
     "name": "stdout",
     "output_type": "stream",
     "text": [
      "r n b q k b n r\n",
      "p p p p p p p p\n",
      ". . . . . . . .\n",
      ". . . . . . . .\n",
      ". . . . . . . .\n",
      ". . . . . . . .\n",
      "P P P P P P P P\n",
      "R N B Q K B N R\n"
     ]
    }
   ],
   "source": [
    "board = chess.Board()\n",
    "print(str(board))"
   ]
  },
  {
   "cell_type": "code",
   "execution_count": 3,
   "metadata": {
    "pycharm": {
     "name": "#%%\n"
    }
   },
   "outputs": [],
   "source": [
    "s = []\n",
    "\n",
    "for i in str(board):\n",
    "\n",
    "    if i not in ' \\n':\n",
    "\n",
    "        y = ' '.join(format(ord(i), 'b'))\n",
    "        x = ''\n",
    "\n",
    "        for j in y:\n",
    "            if j != \" \" : x += j\n",
    "\n",
    "        s.append(x)"
   ]
  },
  {
   "cell_type": "code",
   "execution_count": 4,
   "metadata": {
    "pycharm": {
     "name": "#%%\n"
    }
   },
   "outputs": [
    {
     "data": {
      "text/plain": "64"
     },
     "execution_count": 4,
     "metadata": {},
     "output_type": "execute_result"
    }
   ],
   "source": [
    "len(s)"
   ]
  },
  {
   "cell_type": "code",
   "execution_count": 5,
   "metadata": {
    "pycharm": {
     "name": "#%%\n"
    }
   },
   "outputs": [],
   "source": [
    "states, mcts_probs, live_agents = ['p1','p2'], [], []\n",
    "legal_moves = list(board.legal_moves)"
   ]
  },
  {
   "cell_type": "markdown",
   "metadata": {
    "pycharm": {
     "name": "#%% md\n"
    }
   },
   "source": [
    "Q это все V цепочек Нод делённая на количество проходов через ноду\n",
    "$$ Q = \\frac{\\sum_i^N{V_i}}{N} $$"
   ]
  },
  {
   "cell_type": "code",
   "execution_count": 6,
   "metadata": {
    "pycharm": {
     "name": "#%%\n"
    }
   },
   "outputs": [],
   "source": [
    "class Node:\n",
    "    \"\"\"\n",
    "    Это Ноды дерева по которым будет ходить AI.\n",
    "    Они максимально похожи на Ноды из Alpha Go.\n",
    "    \"\"\"\n",
    "    def __init__(self, parent, probability):\n",
    "\n",
    "        self.parent = parent # это родители Ноды\n",
    "\n",
    "        # с большой буквы т.к. эти значения будут указываться в формулах\n",
    "\n",
    "        self.N = 0 # количество проходов через ноду\n",
    "        self.Quality = 0 # вышу формула\n",
    "        self.Value = 0 # цена ноды (выход из NN)\n",
    "        self.Probability = probability # вероятность хода на эту ноду (выход из NN)\n"
   ]
  },
  {
   "cell_type": "code",
   "execution_count": 12,
   "metadata": {
    "pycharm": {
     "name": "#%%\n"
    }
   },
   "outputs": [],
   "source": []
  },
  {
   "cell_type": "code",
   "execution_count": null,
   "metadata": {
    "pycharm": {
     "name": "#%%\n"
    }
   },
   "outputs": [],
   "source": [
    "\n"
   ]
  }
 ],
 "metadata": {
  "kernelspec": {
   "display_name": "PyCharm (Emotion-Recognition)",
   "language": "python",
   "name": "pycharm-86459515"
  },
  "language_info": {
   "codemirror_mode": {
    "name": "ipython",
    "version": 3
   },
   "file_extension": ".py",
   "mimetype": "text/x-python",
   "name": "python",
   "nbconvert_exporter": "python",
   "pygments_lexer": "ipython3",
   "version": "3.8.2"
  }
 },
 "nbformat": 4,
 "nbformat_minor": 1
}